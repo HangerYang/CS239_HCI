{
 "cells": [
  {
   "cell_type": "code",
   "execution_count": 2,
   "metadata": {},
   "outputs": [
    {
     "name": "stdout",
     "output_type": "stream",
     "text": [
      "Invalid response format\n",
      "{'critique': 'Unable to extract critique due to unexpected response format.', 'lessons': ['Please try again later.']}\n",
      "Extracted Critique: The user has demonstrated good communication by engaging in a conversation and asking for recommendations. They showed enthusiasm when making a decision and were open to suggestions.\n",
      "Extracted Lessons: ['Practice pronunciation and enunciation to ensure clear speech and easier comprehension.', 'Expand vocabulary by using more descriptive words to express their thoughts and preferences.', 'Be patient and continue to engage in conversations to enhance listening and speaking skills.']\n",
      "{'critique': 'The user has demonstrated good communication by engaging in a conversation and asking for recommendations. They showed enthusiasm when making a decision and were open to suggestions.', 'lessons': ['Practice pronunciation and enunciation to ensure clear speech and easier comprehension.', 'Expand vocabulary by using more descriptive words to express their thoughts and preferences.', 'Be patient and continue to engage in conversations to enhance listening and speaking skills.']}\n"
     ]
    }
   ],
   "source": [
    "import re\n",
    "response = [{'role': 'system', 'content': 'You are an expert language tutor providing helpful feedback.'}, {'role': 'user', 'content': \"As an expert language tutor specializing in English, analyze this conversation where the user is practicing English.\\n        Conversation:\\n        User: Please start!\\nAI: Hi there! How can I assist you today? Is there anything on our menu that catches your eye or do you need help making a decision? Let me know if you have any questions or preferences, and I'll be happy to help you find something delicious to enjoy.\\n\\nUser: Please start!\\nAI: Hi there! How can I assist you today? Is there anything on our menu that catches your eye or do you need help making a decision? Let me know if you have any questions or preferences, and I'll be happy to help you find something delicious to enjoy.\\n\\nUser: Can you recommended something from the appetizers sections? I'm not sure what to start with.\\nAI: Of course! Our house-made artichoke dip is a popular appetizer choice, served with crispy bread sticks. If you're in the mood for something lighter, we also offer a delightful assortment of salads and bruschetta. Feel free to ask about any dietary restrictions or flavor preferences, and I'll recommend something that suits your taste buds perfectly.\\n\\nUser: I'm still undecideded, can I sees any pictures of the dishes?\\nAI: I apologize, but as a text-based AI, I cannot provide visual images. However, I can describe each dish in detail and share descriptions or flavors to help you make an informed decision. If you have any specific requests or preferences, please let me know, and I'll do my best to assist you in finding the perfect appetizer to start your meal.\\n\\nUser: I think I'll try the artichoke dip, sounds deliciouses!\\nAI: Great choice! I'll place your order for the house-made artichoke dip with crispy bread sticks right away. Is there anything else I can get for you at this time? Don't hesitate to reach out if you need assistance during your meal or require additional items. Enjoy your dining experience!\\n\\n\\n\\n        Provide feedback in two parts:\\n        1. CRITIQUE: A concise, constructive critique of the user's language skills (2-3 sentences)\\n        2. LESSONS: 3 specific, actionable lessons to help the user improve (one sentence each)\\n\\n        Format your response exactly like this:\\n        CRITIQUE: [Your critique here]\\n\\n        LESSONS:\\n        - [First lesson]\\n        - [Second lesson]\\n        - [Third lesson]\\n\\n        Write in English regardless of the conversation language.\"}, {'role': 'assistant', 'content': 'CRITIQUE: The user has demonstrated good communication by engaging in a conversation and asking for recommendations. They showed enthusiasm when making a decision and were open to suggestions.\\n\\nLESSONS:\\n- Practice pronunciation and enunciation to ensure clear speech and easier comprehension.\\n- Expand vocabulary by using more descriptive words to express their thoughts and preferences.\\n- Be patient and continue to engage in conversations to enhance listening and speaking skills.'}]\n",
    "print(\"Invalid response format\")\n",
    "print({\n",
    "        \"critique\": \"Unable to extract critique due to unexpected response format.\",\n",
    "        \"lessons\": [\"Please try again later.\"]\n",
    "    })\n",
    "\n",
    "# Extract AI response content\n",
    "analysis = response[-1][\"content\"].strip()\n",
    "\n",
    "# Normalize text (remove unnecessary newlines and spaces)\n",
    "analysis = analysis.replace(\"\\r\", \"\").strip()\n",
    "\n",
    "# Extract critique using regex\n",
    "critique_match = re.search(r'CRITIQUE:\\s*(.*?)(?=\\n\\nLESSONS:|\\Z)', analysis, re.DOTALL)\n",
    "critique = critique_match.group(1).strip() if critique_match else \"No critique available.\"\n",
    "\n",
    "# Extract lessons using regex\n",
    "lessons_match = re.search(r'LESSONS:\\s*(.*)', analysis, re.DOTALL)\n",
    "lessons = []\n",
    "if lessons_match:\n",
    "    lessons_text = lessons_match.group(1).strip()\n",
    "    # Match only the bullet points\n",
    "    lesson_items = re.findall(r'-\\s*(.*?)(?=\\n-|$)', lessons_text, re.DOTALL)\n",
    "    lessons = [lesson.strip() for lesson in lesson_items if lesson.strip()]\n",
    "\n",
    "# Fallback in case no lessons are extracted\n",
    "if not lessons:\n",
    "    lessons = [\"Practice forming complete sentences with correct grammar.\",\n",
    "               \"Expand vocabulary by learning new words daily.\",\n",
    "               \"Improve pronunciation by listening and repeating native speech.\"]\n",
    "\n",
    "# Print extracted critique and lessons for debugging\n",
    "print(f\"Extracted Critique: {critique}\")\n",
    "print(f\"Extracted Lessons: {lessons}\")\n",
    "\n",
    "# Return structured result\n",
    "print( {\n",
    "    \"critique\": critique,\n",
    "    \"lessons\": lessons\n",
    "})\n"
   ]
  }
 ],
 "metadata": {
  "kernelspec": {
   "display_name": "nemo",
   "language": "python",
   "name": "python3"
  },
  "language_info": {
   "codemirror_mode": {
    "name": "ipython",
    "version": 3
   },
   "file_extension": ".py",
   "mimetype": "text/x-python",
   "name": "python",
   "nbconvert_exporter": "python",
   "pygments_lexer": "ipython3",
   "version": "3.10.12"
  }
 },
 "nbformat": 4,
 "nbformat_minor": 2
}
