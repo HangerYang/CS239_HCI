{
 "cells": [
  {
   "cell_type": "code",
   "execution_count": 1,
   "id": "b34c241c-fd16-4802-b1d9-baaf7c661093",
   "metadata": {},
   "outputs": [
    {
     "name": "stdout",
     "output_type": "stream",
     "text": [
      "Requirement already satisfied: wavio in /Users/hztang/miniconda3/lib/python3.11/site-packages (0.0.9)\n",
      "Requirement already satisfied: numpy>=1.19.0 in /Users/hztang/.local/lib/python3.11/site-packages (from wavio) (1.26.4)\n",
      "\n",
      "\u001b[1m[\u001b[0m\u001b[34;49mnotice\u001b[0m\u001b[1;39;49m]\u001b[0m\u001b[39;49m A new release of pip is available: \u001b[0m\u001b[31;49m24.3.1\u001b[0m\u001b[39;49m -> \u001b[0m\u001b[32;49m25.0.1\u001b[0m\n",
      "\u001b[1m[\u001b[0m\u001b[34;49mnotice\u001b[0m\u001b[1;39;49m]\u001b[0m\u001b[39;49m To update, run: \u001b[0m\u001b[32;49mpip install --upgrade pip\u001b[0m\n",
      "Requirement already satisfied: sounddevice in /Users/hztang/miniconda3/lib/python3.11/site-packages (0.5.1)\n",
      "Requirement already satisfied: CFFI>=1.0 in /Users/hztang/miniconda3/lib/python3.11/site-packages (from sounddevice) (1.16.0)\n",
      "Requirement already satisfied: pycparser in /Users/hztang/miniconda3/lib/python3.11/site-packages (from CFFI>=1.0->sounddevice) (2.21)\n",
      "\n",
      "\u001b[1m[\u001b[0m\u001b[34;49mnotice\u001b[0m\u001b[1;39;49m]\u001b[0m\u001b[39;49m A new release of pip is available: \u001b[0m\u001b[31;49m24.3.1\u001b[0m\u001b[39;49m -> \u001b[0m\u001b[32;49m25.0.1\u001b[0m\n",
      "\u001b[1m[\u001b[0m\u001b[34;49mnotice\u001b[0m\u001b[1;39;49m]\u001b[0m\u001b[39;49m To update, run: \u001b[0m\u001b[32;49mpip install --upgrade pip\u001b[0m\n",
      "zsh:1: command not found: apt-get\n",
      "Requirement already satisfied: deep-translator in /Users/hztang/miniconda3/lib/python3.11/site-packages (1.11.4)\n",
      "Requirement already satisfied: beautifulsoup4<5.0.0,>=4.9.1 in /Users/hztang/miniconda3/lib/python3.11/site-packages (from deep-translator) (4.12.3)\n",
      "Requirement already satisfied: requests<3.0.0,>=2.23.0 in /Users/hztang/miniconda3/lib/python3.11/site-packages (from deep-translator) (2.32.3)\n",
      "Requirement already satisfied: soupsieve>1.2 in /Users/hztang/miniconda3/lib/python3.11/site-packages (from beautifulsoup4<5.0.0,>=4.9.1->deep-translator) (2.5)\n",
      "Requirement already satisfied: charset-normalizer<4,>=2 in /Users/hztang/miniconda3/lib/python3.11/site-packages (from requests<3.0.0,>=2.23.0->deep-translator) (2.0.4)\n",
      "Requirement already satisfied: idna<4,>=2.5 in /Users/hztang/miniconda3/lib/python3.11/site-packages (from requests<3.0.0,>=2.23.0->deep-translator) (3.4)\n",
      "Requirement already satisfied: urllib3<3,>=1.21.1 in /Users/hztang/miniconda3/lib/python3.11/site-packages (from requests<3.0.0,>=2.23.0->deep-translator) (1.26.18)\n",
      "Requirement already satisfied: certifi>=2017.4.17 in /Users/hztang/miniconda3/lib/python3.11/site-packages (from requests<3.0.0,>=2.23.0->deep-translator) (2023.11.17)\n",
      "\n",
      "\u001b[1m[\u001b[0m\u001b[34;49mnotice\u001b[0m\u001b[1;39;49m]\u001b[0m\u001b[39;49m A new release of pip is available: \u001b[0m\u001b[31;49m24.3.1\u001b[0m\u001b[39;49m -> \u001b[0m\u001b[32;49m25.0.1\u001b[0m\n",
      "\u001b[1m[\u001b[0m\u001b[34;49mnotice\u001b[0m\u001b[1;39;49m]\u001b[0m\u001b[39;49m To update, run: \u001b[0m\u001b[32;49mpip install --upgrade pip\u001b[0m\n",
      "Requirement already satisfied: SpeechRecognition in /Users/hztang/miniconda3/lib/python3.11/site-packages (3.14.1)\n",
      "Requirement already satisfied: typing-extensions in /Users/hztang/miniconda3/lib/python3.11/site-packages (from SpeechRecognition) (4.12.0)\n",
      "\n",
      "\u001b[1m[\u001b[0m\u001b[34;49mnotice\u001b[0m\u001b[1;39;49m]\u001b[0m\u001b[39;49m A new release of pip is available: \u001b[0m\u001b[31;49m24.3.1\u001b[0m\u001b[39;49m -> \u001b[0m\u001b[32;49m25.0.1\u001b[0m\n",
      "\u001b[1m[\u001b[0m\u001b[34;49mnotice\u001b[0m\u001b[1;39;49m]\u001b[0m\u001b[39;49m To update, run: \u001b[0m\u001b[32;49mpip install --upgrade pip\u001b[0m\n"
     ]
    }
   ],
   "source": [
    "!pip install wavio\n",
    "!pip install sounddevice\n",
    "!apt-get install libportaudio2\n",
    "#Translation\n",
    "!pip install deep-translator\n",
    "#Alternate Speech Recognition\n",
    "!pip install SpeechRecognition"
   ]
  },
  {
   "cell_type": "code",
   "execution_count": 2,
   "id": "0b53460c-f575-488b-b798-c9fb713110fe",
   "metadata": {},
   "outputs": [],
   "source": [
    "import sounddevice as sd\n",
    "from scipy.io.wavfile import write\n",
    "import wavio as wv"
   ]
  },
  {
   "cell_type": "code",
   "execution_count": 38,
   "id": "ada96297-a0de-48fe-a21d-d44f2a7afd27",
   "metadata": {},
   "outputs": [],
   "source": [
    "# Sample frequency\n",
    "freq = 41400 #Change to 48000 if this doesn't work. Kind of weird.\n",
    "# Recording duration\n",
    "duration = 5\n",
    " \n",
    "# Start recorder with the given values \n",
    "# of duration and sample frequency\n",
    "recording = sd.rec(int(duration * freq), samplerate=freq, channels=1)\n",
    "# Record audio for the given number of seconds\n",
    "sd.wait()\n",
    " \n",
    "# This will convert the NumPy array to an audio\n",
    "# file with the given sampling frequency\n",
    "write(\"recording0.wav\", freq, recording)\n",
    "\n",
    "# Convert the NumPy array to audio file \n",
    "wv.write(\"recording1.wav\", recording, freq, sampwidth=2) #USE THIS: THIS IS THE FORMAT THAT ALLOWS FOR  AUDIO FILE PROCESSING"
   ]
  },
  {
   "cell_type": "code",
   "execution_count": 46,
   "id": "91675536-e9e9-4224-a9d9-65512f69f9f9",
   "metadata": {},
   "outputs": [
    {
     "name": "stdout",
     "output_type": "stream",
     "text": [
      "je mange un hamburger\n"
     ]
    }
   ],
   "source": [
    "import speech_recognition as sr\n",
    "# Create an instance of the Recognizer class\n",
    "recognizer = sr.Recognizer()\n",
    "\n",
    "# Create audio file instance from the original file\n",
    "audio_ex = sr.AudioFile('recording1.wav')\n",
    "type(audio_ex)\n",
    "# Create audio data\n",
    "with audio_ex as source:\n",
    "    audiodata = recognizer.record(audio_ex)\n",
    "type(audiodata)\n",
    "\n",
    "# Extract text\n",
    "text = recognizer.recognize_google(audio_data=audiodata, language='fr-FR')\n",
    "#https://cloud.google.com/speech-to-text/docs/speech-to-text-supported-languages\n",
    "#Refer to link for languages\n",
    "print(text)"
   ]
  },
  {
   "cell_type": "code",
   "execution_count": 47,
   "id": "6e92ccc6-db28-49aa-8ee5-fbc7bacd1117",
   "metadata": {},
   "outputs": [
    {
     "name": "stdout",
     "output_type": "stream",
     "text": [
      "I eat a hamburger\n"
     ]
    }
   ],
   "source": [
    "from deep_translator import GoogleTranslator\n",
    "translated = GoogleTranslator(source='fr', target='english').translate(text)\n",
    "print(translated)"
   ]
  },
  {
   "cell_type": "code",
   "execution_count": 43,
   "id": "f89379c2-1d33-4da0-86cb-ebcdf66306f5",
   "metadata": {},
   "outputs": [
    {
     "name": "stdout",
     "output_type": "stream",
     "text": [
      "我吃汉堡包\n"
     ]
    }
   ],
   "source": [
    "translated = GoogleTranslator(source='fr', target='zh-CN').translate(text)\n",
    "print(translated)"
   ]
  },
  {
   "cell_type": "code",
   "execution_count": 24,
   "id": "4b53e6f3-49b9-4cd5-b825-c594a0ff876f",
   "metadata": {},
   "outputs": [],
   "source": [
    "langdict = {'afrikaans': 'af', 'albanian': 'sq', 'amharic': 'am', 'arabic': 'ar', 'armenian': 'hy',\n",
    " 'assamese': 'as', 'aymara': 'ay', 'azerbaijani': 'az', 'bambara': 'bm', 'basque': 'eu', 'belarusian': 'be',\n",
    "  'bengali': 'bn', 'bhojpuri': 'bho', 'bosnian': 'bs', 'bulgarian': 'bg', 'catalan': 'ca', 'cebuano': 'ceb', 'chichewa': 'ny', 'chinese (simplified)': 'zh-CN', 'chinese (traditional)': 'zh-TW', 'corsican': 'co',\n",
    "  'croatian': 'hr', 'czech': 'cs', 'danish': 'da', 'dhivehi': 'dv', 'dogri': 'doi', 'dutch': 'nl', 'english': 'en',\n",
    "  'esperanto': 'eo', 'estonian': 'et', 'ewe': 'ee', 'filipino': 'tl', 'finnish': 'fi', 'french': 'fr',\n",
    "  'frisian': 'fy', 'galician': 'gl', 'georgian': 'ka', 'german': 'de', 'greek': 'el', 'guarani': 'gn',\n",
    "  'gujarati': 'gu', 'haitian creole': 'ht', 'hausa': 'ha', 'hawaiian': 'haw', 'hebrew': 'iw', 'hindi': 'hi',\n",
    "  'hmong': 'hmn', 'hungarian': 'hu', 'icelandic': 'is', 'igbo': 'ig', 'ilocano': 'ilo', 'indonesian': 'id',\n",
    "  'irish': 'ga', 'italian': 'it', 'japanese': 'ja', 'javanese': 'jw', 'kannada': 'kn', 'kazakh': 'kk',\n",
    "  'khmer': 'km', 'kinyarwanda': 'rw', 'konkani': 'gom', 'korean': 'ko', 'krio': 'kri', 'kurdish (kurmanji)': 'ku',\n",
    "  'kurdish (sorani)': 'ckb', 'kyrgyz': 'ky', 'lao': 'lo', 'latin': 'la', 'latvian': 'lv', 'lingala': 'ln',\n",
    "  'lithuanian': 'lt', 'luganda': 'lg', 'luxembourgish': 'lb', 'macedonian': 'mk', 'maithili': 'mai',\n",
    "  'malagasy': 'mg', 'malay': 'ms', 'malayalam': 'ml', 'maltese': 'mt', 'maori': 'mi', 'marathi': 'mr',\n",
    "  'meiteilon (manipuri)': 'mni-Mtei', 'mizo': 'lus', 'mongolian': 'mn', 'myanmar': 'my', 'nepali': 'ne',\n",
    "  'norwegian': 'no', 'odia (oriya)': 'or', 'oromo': 'om', 'pashto': 'ps', 'persian': 'fa', 'polish': 'pl',\n",
    "  'portuguese': 'pt', 'punjabi': 'pa', 'quechua': 'qu', 'romanian': 'ro', 'russian': 'ru', 'samoan': 'sm',\n",
    "  'sanskrit': 'sa', 'scots gaelic': 'gd', 'sepedi': 'nso', 'serbian': 'sr', 'sesotho': 'st', 'shona': 'sn',\n",
    "  'sindhi': 'sd', 'sinhala': 'si', 'slovak': 'sk', 'slovenian': 'sl', 'somali': 'so', 'spanish': 'es',\n",
    "  'sundanese': 'su', 'swahili': 'sw', 'swedish': 'sv', 'tajik': 'tg', 'tamil': 'ta', 'tatar': 'tt', 'telugu': 'te',\n",
    "  'thai': 'th', 'tigrinya': 'ti', 'tsonga': 'ts', 'turkish': 'tr', 'turkmen': 'tk', 'twi': 'ak', 'ukrainian': 'uk',\n",
    "  'urdu': 'ur', 'uyghur': 'ug', 'uzbek': 'uz', 'vietnamese': 'vi', 'welsh': 'cy', 'xhosa': 'xh', 'yiddish': 'yi',\n",
    "  'yoruba': 'yo', 'zulu': 'zu'}"
   ]
  },
  {
   "cell_type": "code",
   "execution_count": null,
   "id": "cd1cb503-4911-48d2-b696-2c2def334ad8",
   "metadata": {},
   "outputs": [],
   "source": []
  }
 ],
 "metadata": {
  "kernelspec": {
   "display_name": "Python 3 (ipykernel)",
   "language": "python",
   "name": "python3"
  },
  "language_info": {
   "codemirror_mode": {
    "name": "ipython",
    "version": 3
   },
   "file_extension": ".py",
   "mimetype": "text/x-python",
   "name": "python",
   "nbconvert_exporter": "python",
   "pygments_lexer": "ipython3",
   "version": "3.11.5"
  }
 },
 "nbformat": 4,
 "nbformat_minor": 5
}
