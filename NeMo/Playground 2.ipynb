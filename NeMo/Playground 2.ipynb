{
 "cells": [
  {
   "cell_type": "code",
   "execution_count": 1,
   "id": "f63d09d1-a915-462b-a4f5-17b43d852580",
   "metadata": {},
   "outputs": [],
   "source": [
    "import os\n",
    "import json\n",
    "from transformers import AutoTokenizer, pipeline\n",
    "import torch\n",
    "from pdb import set_trace as breakpoint"
   ]
  },
  {
   "cell_type": "code",
   "execution_count": 2,
   "id": "4eb4b3d3-9cef-4597-be54-8b45bd6e288b",
   "metadata": {},
   "outputs": [
    {
     "data": {
      "application/vnd.jupyter.widget-view+json": {
       "model_id": "e46ae75569a44392bb2a33de48470e7d",
       "version_major": 2,
       "version_minor": 0
      },
      "text/plain": [
       "Loading checkpoint shards:   0%|          | 0/2 [00:00<?, ?it/s]"
      ]
     },
     "metadata": {},
     "output_type": "display_data"
    },
    {
     "name": "stderr",
     "output_type": "stream",
     "text": [
      "Device set to use cuda:0\n"
     ]
    }
   ],
   "source": [
    "model_name = \"meta-llama/Llama-2-7b-chat-hf\"\n",
    "tokenizer = AutoTokenizer.from_pretrained(model_name, cache_dir=\"PATH_TO_CATCH_HERE\")\n",
    "llm = pipeline(\n",
    "    \"text-generation\",\n",
    "    model=model_name,\n",
    "    torch_dtype=torch.float16,\n",
    "    device_map=\"auto\",\n",
    ")\n",
    "\n",
    "DEFAULT_SCENARIOS = {\n",
    "    \"restaurant\": {\"desc\": \"The user is in a restaurant ordering food.\", \"role\": \"a waiter\"},\n",
    "    \"job_interview\": {\"desc\": \"The user is in a job interview for a software engineering position.\", \"role\": \"an interviewer\"},\n",
    "    \"travel\": {\"desc\": \"The user is at an airport checking in for a flight.\", \"role\": \"a check-in agent\"}\n",
    "}\n",
    "\n",
    "\n",
    "PROFILE_DIR = \"user_profiles\"\n",
    "os.makedirs(PROFILE_DIR, exist_ok=True)\n",
    "\n"
   ]
  },
  {
   "cell_type": "code",
   "execution_count": 53,
   "id": "a498fe85-def9-4e40-9cfe-68a95f1603ae",
   "metadata": {},
   "outputs": [],
   "source": [
    "def load_user_profile(username):\n",
    "    profile_path = os.path.join(PROFILE_DIR, f\"{username}.json\")\n",
    "    if os.path.exists(profile_path):\n",
    "        with open(profile_path, \"r\") as file:\n",
    "            user_profile = json.load(file)\n",
    "    else:\n",
    "        user_profile = {\"username\": username, \"scenario\": None, \"chat_history\": []}\n",
    "\n",
    "    if \"ai_role\" not in user_profile:\n",
    "        user_profile[\"ai_role\"] = None\n",
    "\n",
    "    return user_profile\n",
    "\n",
    "\n",
    "def save_user_profile(user_profile):\n",
    "    profile_path = os.path.join(PROFILE_DIR, f\"{user_profile['username']}.json\")\n",
    "    with open(profile_path, \"w\") as file:\n",
    "        json.dump(user_profile, file, indent=4)\n",
    "\n",
    "\n",
    "def format_prompt(user_profile, user_input):\n",
    "    scenario_description = user_profile[\"scenario\"]\n",
    "    chat_history = user_profile[\"chat_history\"]\n",
    "\n",
    "    prompt = f\"[Scenario]: {scenario_description}\\n\\n\"\n",
    "    for entry in chat_history[-5:]:\n",
    "        prompt += f\"### Human: {entry['user']}\\n### Assistant: {entry['ai']}\\n\"\n",
    "    \n",
    "    prompt += f\"### Human: {user_input}\\n### Assistant:\"\n",
    "    return prompt\n",
    "\n",
    "\n",
    "def infer_ai_role(scenario_description): # returns suggestions\n",
    "    prompt = f\"Based on the following scenario, what role should the AI play?\\n\\nScenario: {scenario_description}\\n\\nAI Role:\"\n",
    "    print(prompt)\n",
    "    response = llm(\n",
    "        prompt,\n",
    "        do_sample=False, \n",
    "        max_new_tokens=10,\n",
    "    )[0]['generated_text'].split(\"AI Role:\")[-1].strip()\n",
    "    #print(\"AI ROLE RESPONSE\")\n",
    "    #print(response)\n",
    "    return response if response else \"assistant\" \n",
    "\n",
    "def talk_agent(username):\n",
    "    user_profile = load_user_profile(username)\n",
    "\n",
    "    # Select or set a scenario\n",
    "    if not user_profile[\"scenario\"]:\n",
    "        print(\"Choose a scenario:\")\n",
    "        for key in DEFAULT_SCENARIOS:\n",
    "            print(f\"- {key}: {DEFAULT_SCENARIOS[key]['desc']}\")\n",
    "        scenario_key = input(\"Enter scenario name (or type 'custom' to create your own): \").strip().lower()\n",
    "\n",
    "        if scenario_key in DEFAULT_SCENARIOS:\n",
    "            user_profile[\"scenario\"] = DEFAULT_SCENARIOS[scenario_key][\"desc\"]\n",
    "        else:\n",
    "            user_profile[\"scenario\"] = input(\"Describe your custom scenario: \")\n",
    "        #user_profile[\"ai_role\"] = infer_ai_role(user_profile[\"scenario\"])\n",
    "        user_profile[\"ai_role\"] = DEFAULT_SCENARIOS[scenario_key][\"role\"] #Set up role\n",
    "        save_user_profile(user_profile)\n",
    "        # print(f\"Scenario set: {user_profile['scenario']}\")\n",
    "        # print(f\"AI will play: {user_profile['ai_role']}\")\n",
    "\n",
    "    else:  # Existing user, infer role if missing\n",
    "        print(\"EXISTING USER\")\n",
    "        if not user_profile.get(\"ai_role\"):\n",
    "            print(\"CREATING AI ROLE\")\n",
    "            user_profile[\"ai_role\"] = infer_ai_role(user_profile[\"scenario\"])\n",
    "            save_user_profile(user_profile)\n",
    "\n",
    "    formatted_prompt = f\"[Scenario]: {user_profile['scenario']}\\n\\n\"\n",
    "    formatted_prompt += f\"### Assistant ({user_profile['ai_role']}):\\n\"\n",
    "    formatted_prompt += \"You are playing the role of the assistant role above in the scenario.\\n\"\n",
    "    formatted_prompt += \"Start the conversation.\\nPost your response here: \"\n",
    "    \n",
    "    print(\"\\nChat started! Type 'return' to pause.\\n\")\n",
    "    response = llm(\n",
    "        formatted_prompt,\n",
    "        do_sample=True,\n",
    "        top_k=50,\n",
    "        top_p=0.7,\n",
    "        num_return_sequences=1,\n",
    "        repetition_penalty=1.1,\n",
    "        max_new_tokens=100,\n",
    "    )[0]['generated_text'].split(\"Post your response here: \")[-1].strip() #Generate Response\n",
    "    print(\"RESPONSE START\")\n",
    "    print(f\"{user_profile['ai_role']}: {response}\")\n",
    "    # print(f\"AI ({user_profile['ai_role']}): {response}\")\n",
    "\n",
    "    user_profile[\"chat_history\"].append({\"user\": \"AI INITIATED\", \"ai\": response})\n",
    "    save_user_profile(user_profile) #Save Response\n",
    "\n",
    "\n",
    "\n",
    "    while True:\n",
    "        user_input = input(\"You: \")\n",
    "        \n",
    "        if user_input.lower() == \"return\":\n",
    "            print(\"Chat paused. You can resume later.\")\n",
    "            save_user_profile(user_profile)\n",
    "            break\n",
    "        if user_input.lower() == \"suggest line\":\n",
    "            formatted_prompt = f\"[Scenario]: {user_profile['scenario']}\\n\\n\"\n",
    "            formatted_prompt += f\"### Assistant ({user_profile['ai_role']}): (Provide three sentences to start the conversation in the form of a numbered list.)\"\n",
    "        else:\n",
    "            formatted_prompt = f\"[Scenario]: {user_profile['scenario']}\\n\\n\"\n",
    "            formatted_prompt += f\"### Assistant ({user_profile['ai_role']})\"\n",
    "            formatted_prompt += \"You are playing the role of the assistant role in the scenario above.\\n \"\n",
    "            formatted_prompt += f\"The user has responded with the following: {user_input}\\n\"\n",
    "            formatted_prompt += \"Continue the conversation by saying only your response.\\nPost your response here:\"\n",
    "        response = llm(\n",
    "            formatted_prompt,\n",
    "            do_sample=True,\n",
    "            top_k=50,\n",
    "            top_p=0.7,\n",
    "            num_return_sequences=1,\n",
    "            repetition_penalty=1.1,\n",
    "            max_new_tokens=100,\n",
    "        )[0]['generated_text'].split(\"Post your response here:\")[-1].strip()\n",
    "        # breakpoint()\n",
    "        print(f\"{user_profile['ai_role']}: {response}\")\n",
    "\n",
    "        user_profile[\"chat_history\"].append({\"user\": user_input, \"ai\": response})\n",
    "        save_user_profile(user_profile)\n",
    "#suggest line command: have machine suggest a line"
   ]
  },
  {
   "cell_type": "code",
   "execution_count": 54,
   "id": "a5403e9c-917a-49b2-be98-1ca44d6bd900",
   "metadata": {},
   "outputs": [
    {
     "name": "stdin",
     "output_type": "stream",
     "text": [
      "Enter your username:  hzt\n"
     ]
    },
    {
     "name": "stdout",
     "output_type": "stream",
     "text": [
      "Choose a scenario:\n",
      "- restaurant: You are in a restaurant ordering food.\n",
      "- job_interview: You are in a job interview for a software engineering position.\n",
      "- travel: You are at an airport checking in for a flight.\n"
     ]
    },
    {
     "name": "stdin",
     "output_type": "stream",
     "text": [
      "Enter scenario name (or type 'custom' to create your own):  travel\n"
     ]
    },
    {
     "name": "stdout",
     "output_type": "stream",
     "text": [
      "\n",
      "Chat started! Type 'return' to pause.\n",
      "\n",
      "RESPONSE START\n",
      "a check-in agent: \"Good afternoon, sir/ma'am! Welcome to [Airline Name]. How can I assist you today?\"\n"
     ]
    },
    {
     "name": "stdin",
     "output_type": "stream",
     "text": [
      "You:  Hi. I would like to check in to the airline\n"
     ]
    },
    {
     "name": "stdout",
     "output_type": "stream",
     "text": [
      "a check-in agent: \"Of course, sir/ma'am! May I have your boarding pass please? Or would you like to check in online and print it out at the airport?\"\n"
     ]
    },
    {
     "name": "stdin",
     "output_type": "stream",
     "text": [
      "You:  I would like to check in online\n"
     ]
    },
    {
     "name": "stdout",
     "output_type": "stream",
     "text": [
      "a check-in agent: \"Great, that's easy! Can you please provide me with your boarding pass and ID so I can scan them?\"\n"
     ]
    },
    {
     "name": "stdin",
     "output_type": "stream",
     "text": [
      "You:  Sure. Here is my boarding pass and ID\n"
     ]
    },
    {
     "name": "stdout",
     "output_type": "stream",
     "text": [
      "a check-in agent: \"Great, thank you! *scans boarding pass* Everything looks good. Would you like to upgrade to a higher class of service? We have options available for Economy Plus or Business Class.\"\n"
     ]
    },
    {
     "name": "stdin",
     "output_type": "stream",
     "text": [
      "You:  How much is the higher class?\n"
     ]
    },
    {
     "name": "stdout",
     "output_type": "stream",
     "text": [
      "a check-in agent: \"The higher class fare for this flight is $200.\"\n"
     ]
    },
    {
     "name": "stdin",
     "output_type": "stream",
     "text": [
      "You:  return\n"
     ]
    },
    {
     "name": "stdout",
     "output_type": "stream",
     "text": [
      "Chat paused. You can resume later.\n"
     ]
    }
   ],
   "source": [
    "#To do\n",
    "#1. Figure out better chat functions\n",
    "#2. Improve beginning of the prompt\n",
    "#3. Prompt to input for suggestion\n",
    "#4. Return: jumps straight into conversation: maybe do a quick history/review\n",
    "username = input(\"Enter your username: \").strip()\n",
    "r1 = talk_agent(username)"
   ]
  },
  {
   "cell_type": "code",
   "execution_count": null,
   "id": "592a56f4-c4d0-47be-b107-116cd345ba99",
   "metadata": {},
   "outputs": [],
   "source": []
  }
 ],
 "metadata": {
  "kernelspec": {
   "display_name": "Python 3 (ipykernel)",
   "language": "python",
   "name": "python3"
  },
  "language_info": {
   "codemirror_mode": {
    "name": "ipython",
    "version": 3
   },
   "file_extension": ".py",
   "mimetype": "text/x-python",
   "name": "python",
   "nbconvert_exporter": "python",
   "pygments_lexer": "ipython3",
   "version": "3.10.12"
  }
 },
 "nbformat": 4,
 "nbformat_minor": 5
}
